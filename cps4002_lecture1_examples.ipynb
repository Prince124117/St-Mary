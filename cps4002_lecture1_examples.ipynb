{
  "nbformat": 4,
  "nbformat_minor": 0,
  "metadata": {
    "colab": {
      "provenance": [],
      "authorship_tag": "ABX9TyMpTyCCaswowxEVHw7dA7rx",
      "include_colab_link": true
    },
    "kernelspec": {
      "name": "python3",
      "display_name": "Python 3"
    },
    "language_info": {
      "name": "python"
    }
  },
  "cells": [
    {
      "cell_type": "markdown",
      "metadata": {
        "id": "view-in-github",
        "colab_type": "text"
      },
      "source": [
        "<a href=\"https://colab.research.google.com/github/Prince124117/St-Mary/blob/main/cps4002_lecture1_examples.ipynb\" target=\"_parent\"><img src=\"https://colab.research.google.com/assets/colab-badge.svg\" alt=\"Open In Colab\"/></a>"
      ]
    },
    {
      "cell_type": "code",
      "execution_count": null,
      "metadata": {
        "colab": {
          "base_uri": "https://localhost:8080/"
        },
        "id": "J5D7y6xOsezy",
        "outputId": "661deb0a-eb18-4568-9873-bbde68bd3cf9"
      },
      "outputs": [
        {
          "output_type": "stream",
          "name": "stdout",
          "text": [
            "Alice goes abroad, TRUE or False :false\n",
            "Alice goes on business trip, TRUE or False :true\n",
            "Result of the NOT X AND Y : true\n"
          ]
        }
      ],
      "source": [
        "#Statements\n",
        "\n",
        "# If Thomas drinks water and Stayesy eats apple then Monica is happy\n",
        "\n",
        "X = input('Alice goes abroad, TRUE or False :')\n",
        "Y = input('Alice goes on business trip, TRUE or False :')\n",
        "\n",
        "\n",
        "#code\n",
        "\n",
        "def AND(a,b):\n",
        "  return a and b\n",
        "def NOT(a):\n",
        "  return a\n",
        "\n",
        "# Evalute the expression (NOT X AND Y )\n",
        "\n",
        "expression = AND(NOT(X),Y)\n",
        "\n",
        "print('Result of the NOT X AND Y :', expression)\n",
        "\n"
      ]
    }
  ]
}